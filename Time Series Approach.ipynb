{
 "cells": [
  {
   "cell_type": "code",
   "execution_count": 1,
   "id": "861a67a1",
   "metadata": {},
   "outputs": [],
   "source": [
    "import matplotlib.pyplot as plt\n",
    "import pandas as pd\n",
    "import numpy as np\n",
    "from datetime import datetime\n",
    "import urllib"
   ]
  },
  {
   "cell_type": "code",
   "execution_count": 2,
   "id": "65972955",
   "metadata": {},
   "outputs": [],
   "source": [
    "df = pd.read_csv('solar_panels.csv')"
   ]
  },
  {
   "cell_type": "code",
   "execution_count": 3,
   "id": "e6dd0182",
   "metadata": {},
   "outputs": [],
   "source": [
    "df['date'] = df['date'].apply(lambda x: datetime.strptime(x,'%Y-%m-%d'))"
   ]
  },
  {
   "cell_type": "code",
   "execution_count": 10,
   "id": "638d21e8",
   "metadata": {},
   "outputs": [],
   "source": [
    "from sklearn.preprocessing import StandardScaler\n",
    "from sklearn.preprocessing import OrdinalEncoder\n",
    "num_cols = ['daylight', \n",
    "            'daylight_avg_temp', 'avg_cloudcover', \n",
    "            'avg_direct_radiation',\n",
    "            'max_wind_speed', 'max_temp']\n",
    "scalers = {}\n",
    "oe = OrdinalEncoder()\n",
    "def preprocess(df):\n",
    "    for col in num_cols:\n",
    "        scalers[col] = StandardScaler()\n",
    "        df[col] = scalers[col].fit_transform(df[col].to_numpy().reshape(-1,1))\n",
    "    \n",
    "    df['weather'] = oe.fit_transform(df['weather'].to_numpy().reshape(-1,1))\n",
    "    \n",
    "\n",
    "    \n",
    "    \n",
    "preprocess(df)"
   ]
  },
  {
   "cell_type": "code",
   "execution_count": 11,
   "id": "9cced5f0",
   "metadata": {},
   "outputs": [
    {
     "data": {
      "text/html": [
       "<div>\n",
       "<style scoped>\n",
       "    .dataframe tbody tr th:only-of-type {\n",
       "        vertical-align: middle;\n",
       "    }\n",
       "\n",
       "    .dataframe tbody tr th {\n",
       "        vertical-align: top;\n",
       "    }\n",
       "\n",
       "    .dataframe thead th {\n",
       "        text-align: right;\n",
       "    }\n",
       "</style>\n",
       "<table border=\"1\" class=\"dataframe\">\n",
       "  <thead>\n",
       "    <tr style=\"text-align: right;\">\n",
       "      <th></th>\n",
       "      <th>date</th>\n",
       "      <th>solar_produced_per_day</th>\n",
       "      <th>daylight</th>\n",
       "      <th>daylight_avg_temp</th>\n",
       "      <th>avg_cloudcover</th>\n",
       "      <th>avg_direct_radiation</th>\n",
       "      <th>weather</th>\n",
       "      <th>max_wind_speed</th>\n",
       "      <th>max_temp</th>\n",
       "    </tr>\n",
       "  </thead>\n",
       "  <tbody>\n",
       "    <tr>\n",
       "      <th>0</th>\n",
       "      <td>2011-10-27</td>\n",
       "      <td>10.1</td>\n",
       "      <td>-0.760638</td>\n",
       "      <td>0.230335</td>\n",
       "      <td>-0.458723</td>\n",
       "      <td>-0.367128</td>\n",
       "      <td>3.0</td>\n",
       "      <td>-0.375395</td>\n",
       "      <td>0.179333</td>\n",
       "    </tr>\n",
       "    <tr>\n",
       "      <th>1</th>\n",
       "      <td>2011-10-28</td>\n",
       "      <td>10.0</td>\n",
       "      <td>-0.777495</td>\n",
       "      <td>0.427151</td>\n",
       "      <td>-1.328996</td>\n",
       "      <td>0.240686</td>\n",
       "      <td>3.0</td>\n",
       "      <td>-1.432994</td>\n",
       "      <td>0.364776</td>\n",
       "    </tr>\n",
       "    <tr>\n",
       "      <th>2</th>\n",
       "      <td>2011-10-29</td>\n",
       "      <td>9.4</td>\n",
       "      <td>-0.799970</td>\n",
       "      <td>0.321173</td>\n",
       "      <td>0.426556</td>\n",
       "      <td>-0.814050</td>\n",
       "      <td>4.0</td>\n",
       "      <td>-1.115714</td>\n",
       "      <td>0.364776</td>\n",
       "    </tr>\n",
       "    <tr>\n",
       "      <th>3</th>\n",
       "      <td>2011-10-30</td>\n",
       "      <td>4.6</td>\n",
       "      <td>-0.822446</td>\n",
       "      <td>0.290894</td>\n",
       "      <td>0.921711</td>\n",
       "      <td>-0.599527</td>\n",
       "      <td>3.0</td>\n",
       "      <td>-0.613355</td>\n",
       "      <td>0.193597</td>\n",
       "    </tr>\n",
       "    <tr>\n",
       "      <th>4</th>\n",
       "      <td>2011-10-31</td>\n",
       "      <td>3.8</td>\n",
       "      <td>-0.833684</td>\n",
       "      <td>0.275754</td>\n",
       "      <td>-0.008581</td>\n",
       "      <td>-0.612935</td>\n",
       "      <td>3.0</td>\n",
       "      <td>-1.009954</td>\n",
       "      <td>0.150803</td>\n",
       "    </tr>\n",
       "  </tbody>\n",
       "</table>\n",
       "</div>"
      ],
      "text/plain": [
       "        date  solar_produced_per_day  daylight  daylight_avg_temp  \\\n",
       "0 2011-10-27                    10.1 -0.760638           0.230335   \n",
       "1 2011-10-28                    10.0 -0.777495           0.427151   \n",
       "2 2011-10-29                     9.4 -0.799970           0.321173   \n",
       "3 2011-10-30                     4.6 -0.822446           0.290894   \n",
       "4 2011-10-31                     3.8 -0.833684           0.275754   \n",
       "\n",
       "   avg_cloudcover  avg_direct_radiation  weather  max_wind_speed  max_temp  \n",
       "0       -0.458723             -0.367128      3.0       -0.375395  0.179333  \n",
       "1       -1.328996              0.240686      3.0       -1.432994  0.364776  \n",
       "2        0.426556             -0.814050      4.0       -1.115714  0.364776  \n",
       "3        0.921711             -0.599527      3.0       -0.613355  0.193597  \n",
       "4       -0.008581             -0.612935      3.0       -1.009954  0.150803  "
      ]
     },
     "execution_count": 11,
     "metadata": {},
     "output_type": "execute_result"
    }
   ],
   "source": [
    "df.head()"
   ]
  },
  {
   "cell_type": "code",
   "execution_count": 12,
   "id": "63fa7418",
   "metadata": {
    "scrolled": true
   },
   "outputs": [],
   "source": [
    "from torch import nn\n",
    "\n",
    "class RNN(nn.Module):\n",
    "    def __init__(self):\n",
    "        self.lstm1 = nn.LSTM(7, 16, 2)\n",
    "    \n",
    "    def forward(self, x):\n",
    "        pass"
   ]
  },
  {
   "cell_type": "code",
   "execution_count": 29,
   "id": "6e242b75",
   "metadata": {},
   "outputs": [
    {
     "data": {
      "text/plain": [
       "torch.Size([2, 3, 20])"
      ]
     },
     "execution_count": 29,
     "metadata": {},
     "output_type": "execute_result"
    }
   ],
   "source": [
    "import torch\n",
    "rnn = nn.LSTM(10, 20, 2)\n",
    "input = torch.randn(5, 3, 10)\n",
    "h0 = torch.randn(2, 3, 20)\n",
    "c0 = torch.randn(2, 3, 20)\n",
    "output = rnn(input)\n",
    "\n",
    "output[1][0].shape"
   ]
  }
 ],
 "metadata": {
  "kernelspec": {
   "display_name": "Python 3 (ipykernel)",
   "language": "python",
   "name": "python3"
  },
  "language_info": {
   "codemirror_mode": {
    "name": "ipython",
    "version": 3
   },
   "file_extension": ".py",
   "mimetype": "text/x-python",
   "name": "python",
   "nbconvert_exporter": "python",
   "pygments_lexer": "ipython3",
   "version": "3.9.12"
  }
 },
 "nbformat": 4,
 "nbformat_minor": 5
}
