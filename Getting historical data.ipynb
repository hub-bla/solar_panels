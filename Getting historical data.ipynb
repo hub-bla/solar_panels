{
 "cells": [
  {
   "cell_type": "code",
   "execution_count": 23,
   "id": "ead3d4d8",
   "metadata": {},
   "outputs": [],
   "source": [
    "import pandas as pd\n",
    "import numpy as np\n",
    "import requests\n",
    "from datetime import datetime\n",
    "import urllib"
   ]
  },
  {
   "cell_type": "markdown",
   "id": "88c6a97f",
   "metadata": {},
   "source": [
    "# Getting historical data"
   ]
  },
  {
   "cell_type": "code",
   "execution_count": 24,
   "id": "98c7bf07",
   "metadata": {},
   "outputs": [],
   "source": [
    "# antwerp location\n",
    "LONGITUDE = 4.40\n",
    "LATITUDE = 51.22\n"
   ]
  },
  {
   "cell_type": "code",
   "execution_count": 25,
   "id": "0d8398c0",
   "metadata": {},
   "outputs": [],
   "source": [
    "def get_historical_weather(from_date, to_date, longitude, latitude):\n",
    "    daily = [\n",
    "            'weathercode',\n",
    "            'temperature_2m_max',\n",
    "            'temperature_2m_mean',\n",
    "            'sunrise','sunset',\n",
    "            'windspeed_10m_max',\n",
    "            'winddirection_10m_dominant']\n",
    "    \n",
    "    hourly = [\n",
    "        'temperature_2m',\n",
    "        'cloudcover',\n",
    "        'direct_radiation'\n",
    "    ]\n",
    "    data = {\n",
    "        'latitude':latitude,\n",
    "        'longitude':longitude,\n",
    "        'start_date':from_date,\n",
    "        'hourly': ','.join(hourly),\n",
    "        'end_date':to_date,\n",
    "        'daily':','.join(daily),\n",
    "        'timezone': 'auto'\n",
    "    \n",
    "    }\n",
    "    url = urllib.parse.urlencode(data, safe=',')\n",
    "    r = requests.get(\"https://archive-api.open-meteo.com/v1/archive\", params=url)\n",
    "    print(r.url)\n",
    "    return r.json()"
   ]
  },
  {
   "cell_type": "code",
   "execution_count": 26,
   "id": "901041ae",
   "metadata": {},
   "outputs": [],
   "source": [
    "def get_mean_daylight_temp(hourly_temp_df,sunrise_df, sunset_df):\n",
    "    sun_idx = 0\n",
    "    new_df = hourly_temp_df\n",
    "    avg_temps = []\n",
    "    cloudcover =[]\n",
    "    direct_radiation = []\n",
    "    mean_arr =[]\n",
    "    cloud_cover_avg = []\n",
    "    direct_radiation_avg =[]\n",
    "    for i, row in hourly_temp_df.iterrows():\n",
    "        if (sun_idx<sunrise_df.shape[0]):\n",
    "            if (sunrise_df.iloc[sun_idx]< row['time']):\n",
    "                if (row['time'] > sunset_df[sun_idx]):\n",
    "                    sun_idx = sun_idx +1\n",
    "                    avg_temps.append(np.median(mean_arr))\n",
    "                    cloudcover.append(np.median(cloud_cover_avg))\n",
    "                    direct_radiation.append(np.median(direct_radiation_avg))\n",
    "                    new_df.drop(i, inplace=True)\n",
    "                    mean_arr=[]\n",
    "                    cloud_cover_avg = []\n",
    "                    direct_radiation_avg =[]\n",
    "                    continue\n",
    "                mean_arr.append(row['temperature_2m'])\n",
    "                cloud_cover_avg.append(row['cloudcover'])\n",
    "                direct_radiation_avg.append(row['direct_radiation'])\n",
    "            else:\n",
    "                new_df.drop(i, inplace=True)\n",
    "    return avg_temps, cloudcover, direct_radiation"
   ]
  },
  {
   "cell_type": "code",
   "execution_count": 27,
   "id": "784053f3",
   "metadata": {},
   "outputs": [
    {
     "data": {
      "text/html": [
       "<div>\n",
       "<style scoped>\n",
       "    .dataframe tbody tr th:only-of-type {\n",
       "        vertical-align: middle;\n",
       "    }\n",
       "\n",
       "    .dataframe tbody tr th {\n",
       "        vertical-align: top;\n",
       "    }\n",
       "\n",
       "    .dataframe thead th {\n",
       "        text-align: right;\n",
       "    }\n",
       "</style>\n",
       "<table border=\"1\" class=\"dataframe\">\n",
       "  <thead>\n",
       "    <tr style=\"text-align: right;\">\n",
       "      <th></th>\n",
       "      <th>date</th>\n",
       "      <th>Cumulative_solar_power</th>\n",
       "      <th>kWh electricity/day</th>\n",
       "      <th>Gas/day</th>\n",
       "    </tr>\n",
       "  </thead>\n",
       "  <tbody>\n",
       "    <tr>\n",
       "      <th>0</th>\n",
       "      <td>26/10/2011</td>\n",
       "      <td>0.1</td>\n",
       "      <td>15.1</td>\n",
       "      <td>9.0</td>\n",
       "    </tr>\n",
       "    <tr>\n",
       "      <th>1</th>\n",
       "      <td>27/10/2011</td>\n",
       "      <td>10.2</td>\n",
       "      <td>7.4</td>\n",
       "      <td>9.2</td>\n",
       "    </tr>\n",
       "    <tr>\n",
       "      <th>2</th>\n",
       "      <td>28/10/2011</td>\n",
       "      <td>20.2</td>\n",
       "      <td>5.8</td>\n",
       "      <td>8.0</td>\n",
       "    </tr>\n",
       "    <tr>\n",
       "      <th>3</th>\n",
       "      <td>29/10/2011</td>\n",
       "      <td>29.6</td>\n",
       "      <td>4.9</td>\n",
       "      <td>6.6</td>\n",
       "    </tr>\n",
       "    <tr>\n",
       "      <th>4</th>\n",
       "      <td>30/10/2011</td>\n",
       "      <td>34.2</td>\n",
       "      <td>11.7</td>\n",
       "      <td>5.3</td>\n",
       "    </tr>\n",
       "  </tbody>\n",
       "</table>\n",
       "</div>"
      ],
      "text/plain": [
       "         date  Cumulative_solar_power  kWh electricity/day  Gas/day\n",
       "0  26/10/2011                     0.1                 15.1      9.0\n",
       "1  27/10/2011                    10.2                  7.4      9.2\n",
       "2  28/10/2011                    20.2                  5.8      8.0\n",
       "3  29/10/2011                    29.6                  4.9      6.6\n",
       "4  30/10/2011                    34.2                 11.7      5.3"
      ]
     },
     "execution_count": 27,
     "metadata": {},
     "output_type": "execute_result"
    }
   ],
   "source": [
    "train_df = pd.read_csv('./PV_Elec_Gas3.csv')\n",
    "train_df.head()"
   ]
  },
  {
   "cell_type": "markdown",
   "id": "f27c2a50",
   "metadata": {},
   "source": [
    "In the first day, energy produced looks extremely low. Maybe the solar panels were installed that day so I will drop that row."
   ]
  },
  {
   "cell_type": "code",
   "execution_count": 28,
   "id": "6bd6cede",
   "metadata": {},
   "outputs": [],
   "source": [
    "def preprocess(df):\n",
    "    \n",
    "    df['date'] = df['date'].apply(lambda x: datetime.strptime(x,'%d/%m/%Y').strftime('%Y-%m-%d'))\n",
    "    \n",
    "    solar_power_per_day = np.zeros(df['Cumulative_solar_power'].shape[0])\n",
    "    solar_power_per_day[0] = df['Cumulative_solar_power'].iloc[0]\n",
    "    \n",
    "    for i, row in df.iterrows():\n",
    "        if (i+1)< df.shape[0]:\n",
    "            solar_power_per_day[i+1] = df['Cumulative_solar_power'].iloc[i+1] - df['Cumulative_solar_power'].iloc[i]\n",
    "    \n",
    "    df['solar_produced_per_day'] = solar_power_per_day\n",
    "    df.drop(0, inplace=True)\n",
    "    df.reset_index(drop=True, inplace=True)\n",
    "    \n",
    "    weather_data = get_historical_weather(df['date'].iloc[0], df['date'].iloc[df.shape[0]-1],LONGITUDE, LATITUDE)\n",
    "    hourly_df =   pd.DataFrame(weather_data['hourly'])\n",
    "    \n",
    "    hourly_df['time'] = hourly_df['time'].apply(lambda x: datetime.strptime(x,'%Y-%m-%dT%H:%M'))\n",
    "    \n",
    "    weather_df = pd.DataFrame(weather_data['daily'])\n",
    "    \n",
    "    sunrise =  weather_df['sunrise'].apply(lambda x: datetime.strptime(x,'%Y-%m-%dT%H:%M'))\n",
    "    sunset = weather_df['sunset'].apply(lambda x: datetime.strptime(x,'%Y-%m-%dT%H:%M'))\n",
    "    daylight = ((sunset-sunrise)/np.timedelta64(1, 'm'))\n",
    "    df['daylight'] = daylight\n",
    "    df['daylight_avg_temp'], df['avg_cloudcover'], df['avg_direct_radiation'] = get_mean_daylight_temp(hourly_df,sunrise, sunset)\n",
    "    df[\"weather\"] = weather_df[\"weathercode\"]\n",
    "    df[\"max_wind_speed\"] = weather_df['windspeed_10m_max']\n",
    "    df[\"max_temp\"] = weather_df['temperature_2m_max']\n",
    "    df.drop(['Cumulative_solar_power', 'kWh electricity/day', 'Gas/day'], axis=1, inplace=True)\n",
    "    return df\n"
   ]
  },
  {
   "cell_type": "code",
   "execution_count": 29,
   "id": "cb28514e",
   "metadata": {},
   "outputs": [
    {
     "name": "stdout",
     "output_type": "stream",
     "text": [
      "https://archive-api.open-meteo.com/v1/archive?latitude=51.22&longitude=4.4&start_date=2011-10-27&hourly=temperature_2m,cloudcover,direct_radiation&end_date=2020-11-10&daily=weathercode,temperature_2m_max,temperature_2m_mean,sunrise,sunset,windspeed_10m_max,winddirection_10m_dominant&timezone=auto\n"
     ]
    }
   ],
   "source": [
    "train_df = preprocess(train_df)"
   ]
  },
  {
   "cell_type": "code",
   "execution_count": 30,
   "id": "e8019b90",
   "metadata": {},
   "outputs": [],
   "source": [
    "train_df.to_csv('solar_panels.csv')"
   ]
  }
 ],
 "metadata": {
  "kernelspec": {
   "display_name": "Python 3 (ipykernel)",
   "language": "python",
   "name": "python3"
  },
  "language_info": {
   "codemirror_mode": {
    "name": "ipython",
    "version": 3
   },
   "file_extension": ".py",
   "mimetype": "text/x-python",
   "name": "python",
   "nbconvert_exporter": "python",
   "pygments_lexer": "ipython3",
   "version": "3.9.12"
  }
 },
 "nbformat": 4,
 "nbformat_minor": 5
}
